{
 "cells": [
  {
   "cell_type": "markdown",
   "id": "aef51fb0",
   "metadata": {},
   "source": [
    "###  everything wrong laskjdfa;lksjfd;lksjfd"
   ]
  },
  {
   "cell_type": "code",
   "execution_count": 5,
   "id": "2d977b25",
   "metadata": {},
   "outputs": [],
   "source": [
    "import sys\n",
    "sys.path.append('../../astro_tools')\n",
    "import numpy as np\n",
    "import matplotlib.pyplot as plt\n",
    "from astropy.io import fits\n",
    "from tqdm import tqdm\n",
    "from astropy.wcs import wcs\n",
    "import pandas as pd\n",
    "\n",
    "# set up the plot\n",
    "plt.rcParams['text.usetex'] = False\n",
    "plt.rcParams[\"axes.edgecolor\"] = \"black\"\n",
    "plt.rcParams[\"axes.linewidth\"] = 2.5\n",
    "plt.rcParams[\"axes.labelweight\"] = 'bold'\n",
    "plt.rcParams[\"axes.titleweight\"] = 'bold'\n",
    "plt.rcParams[\"font.family\"] = \"courier new\"\n",
    "plt.rcParams[\"font.style\"] = \"normal\"\n",
    "plt.rcParams[\"mathtext.default\"] = \"regular\"\n",
    "plt.rcParams[\"font.weight\"] = 'bold'\n",
    "\n",
    "import warnings\n",
    "warnings.filterwarnings('ignore')"
   ]
  },
  {
   "cell_type": "code",
   "execution_count": 6,
   "id": "76ebf287",
   "metadata": {},
   "outputs": [
    {
     "name": "stdout",
     "output_type": "stream",
     "text": [
      "436 437\n",
      "(436, 437)\n"
     ]
    }
   ],
   "source": [
    "num_obs = 150\n",
    "free_params1 = 6\n",
    "free_params2 = 12\n",
    "free_params3 = 18\n",
    "savepath1 = '../../ngc253/muse/Nov28/fits1_total/'\n",
    "infile1 = '%sfits1_reordered.txt' % savepath1\n",
    "\n",
    "fits1 = pd.read_csv(infile1)\n",
    "\n",
    "# get info of original data\n",
    "og = '../../ngc253/muse/data/ADP.2018-11-22T21_29_46.157.fits'\n",
    "hdu = fits.open(og)[1]\n",
    "og_data = hdu.data\n",
    "y, x = og_data[1].shape\n",
    "print(y,x)\n",
    "w = wcs.WCS(hdu.header, naxis=2).celestial\n",
    "\n",
    "# open the BIC_PHYS test fits file\n",
    "which_model_infile = '../../ngc253/muse/Nov28/BIC_PHYS_RATIO_1p5.fits'\n",
    "hdu_BIC = fits.open(which_model_infile)\n",
    "which_model = hdu_BIC[0].data\n",
    "\n",
    "# open the disk velocity model\n",
    "disk_map_infile = '../../ngc253/muse/data/ngc253_se_halpha_vel_model_smooth_replaceCO_andsmooth.fits'\n",
    "hdu_Ha = fits.open(disk_map_infile)\n",
    "disk_map = hdu_Ha[0].data\n",
    "print(disk_map.shape)\n"
   ]
  },
  {
   "cell_type": "code",
   "execution_count": 9,
   "id": "2751c3b3",
   "metadata": {},
   "outputs": [],
   "source": [
    "# rms is the same for all the fits\n",
    "rms_map = np.full((y,x), np.nan)\n",
    "\n",
    "# make maps of the BICs, velocities, and FWHMs\n",
    "for index, row in fits1.iterrows():\n",
    "    rms_map[int(row['Y']), int(row['X'])] = row['rms']\n",
    "    sig_map1[int(row['Y']), int(row['X'])] = row['Sig2']\n",
    "    \n",
    "for index, row in fits2.iterrows():\n",
    "    sig_map2[int(row['Y']), int(row['X'])] = row['Sig2']\n",
    "    \n",
    "rms_map[np.isnan(og_data[1])] = np.nan # [0] has some nans within\n",
    "hdul = fits.PrimaryHDU(data=rms_map, header=hdu.header)\n",
    "hdul.writeto('../../ngc253/muse/data/output_maps/ngc253_muse_se_rms.fits',  overwrite=True)"
   ]
  },
  {
   "cell_type": "code",
   "execution_count": null,
   "id": "99af5158",
   "metadata": {},
   "outputs": [],
   "source": [
    "Now we want to use the rms map and the sigma maps."
   ]
  },
  {
   "cell_type": "code",
   "execution_count": 22,
   "id": "e369e3cb",
   "metadata": {},
   "outputs": [
    {
     "data": {
      "text/plain": [
       "16.092134958296132"
      ]
     },
     "execution_count": 22,
     "metadata": {},
     "output_type": "execute_result"
    }
   ],
   "source": [
    "rms_map_file = fits.open('../../ngc253/muse/data/output_maps/ngc253_muse_se_rms.fits')\n",
    "\n",
    "np.mean(rms_map_file[0].data[np.isfinite(rms_map_file[0].data)])"
   ]
  }
 ],
 "metadata": {
  "kernelspec": {
   "display_name": "Python 3 (ipykernel)",
   "language": "python",
   "name": "python3"
  },
  "language_info": {
   "codemirror_mode": {
    "name": "ipython",
    "version": 3
   },
   "file_extension": ".py",
   "mimetype": "text/x-python",
   "name": "python",
   "nbconvert_exporter": "python",
   "pygments_lexer": "ipython3",
   "version": "3.10.4"
  }
 },
 "nbformat": 4,
 "nbformat_minor": 5
}
