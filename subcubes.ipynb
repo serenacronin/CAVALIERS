{
 "cells": [
  {
   "cell_type": "code",
   "execution_count": 1,
   "id": "6322ba12",
   "metadata": {},
   "outputs": [],
   "source": [
    "from astropy.io import fits\n",
    "from astropy.wcs import wcs\n",
    "from reproject import reproject_interp\n",
    "from astropy import units as u\n",
    "from spectral_cube import SpectralCube\n",
    "import pvextractor\n",
    "from tqdm import tqdm\n",
    "\n",
    "import numpy as np\n",
    "from routine import CreateCube"
   ]
  },
  {
   "cell_type": "code",
   "execution_count": 23,
   "id": "cb0b936e",
   "metadata": {},
   "outputs": [
    {
     "name": "stderr",
     "output_type": "stream",
     "text": [
      "WARNING: UnitsWarning: '10**(-20)*erg/s/cm**2/Angstrom' contains multiple slashes, which is discouraged by the FITS standard [astropy.units.format.generic]\n",
      "WARNING: ExperimentalImplementationWarning: Support for air wavelengths is experimental and only works in the forward direction (air->vac, not vac->air). [spectral_cube.spectral_axis]\n",
      "WARNING: ExperimentalImplementationWarning: Support for air wavelengths is experimental and only works in the forward direction (air->vac, not vac->air). [spectral_cube.spectral_axis]\n"
     ]
    }
   ],
   "source": [
    "c = 3*10**5 * u.km/u.s\n",
    "Vsys = 243. * u.km/u.s\n",
    "restwvl = 6583.45*u.AA * (Vsys + c)/c # NII\n",
    "cube = SpectralCube.read('../ngc253/data/ADP.2018-11-22T21_29_46.157.fits', hdu=1).spectral_slab(6500*u.AA, 6700*u.AA)  \n",
    "subcube = cube.with_spectral_unit(u.km/u.s, 'optical', restwvl)\n",
    "subcube.write('../ngc253/data/NIIb_ADP.2018-11-22T21_29_46.157.fits', format='fits', overwrite=True)  "
   ]
  },
  {
   "cell_type": "code",
   "execution_count": 24,
   "id": "1efb8a5d",
   "metadata": {},
   "outputs": [
    {
     "data": {
      "image/png": "[encoded data removed]",
      "text/plain": [
       "<Figure size 640x480 with 1 Axes>"
      ]
     },
     "metadata": {},
     "output_type": "display_data"
    }
   ],
   "source": [
    "subcube[:,270,230].quicklook()"
   ]
  },
  {
   "cell_type": "markdown",
   "id": "15abfe09",
   "metadata": {},
   "source": [
    "### Making H-beta and H-alpha cubes and taking the ratio of intensities."
   ]
  },
  {
   "cell_type": "code",
   "execution_count": 2,
   "id": "1656be8c",
   "metadata": {},
   "outputs": [],
   "source": [
    "c = 3*10**5 * u.km/u.s\n",
    "Vsys = 243. * u.km/u.s"
   ]
  },
  {
   "cell_type": "code",
   "execution_count": 37,
   "id": "7ffdf3e0",
   "metadata": {},
   "outputs": [
    {
     "data": {
      "text/plain": [
       "437"
      ]
     },
     "execution_count": 37,
     "metadata": {},
     "output_type": "execute_result"
    }
   ],
   "source": [
    "subcube.shape[2]"
   ]
  },
  {
   "cell_type": "code",
   "execution_count": 5,
   "id": "2bd7b892",
   "metadata": {},
   "outputs": [],
   "source": [
    "cube = CreateCube('../ngc253/muse/data/ADP.2018-11-22T21_29_46.157.fits', \n",
    "           4800, 5100, 4800, 4845, 4890, 4940)\n",
    "restwvl = 4861.363*u.AA * (Vsys + c)/c # H-beta\n",
    "subcube = cube.with_spectral_unit(u.km/u.s, 'optical', restwvl).spectral_slab(-600*u.km/u.s, 600*u.km/u.s)\n",
    "subcube.write('../ngc253/muse/data/Hbeta_ADP.2018-11-22T21_29_46.157.fits', format='fits', overwrite=True)  \n",
    "# hbeta = np.full((subcube.shape[1],subcube.shape[2]), np.nan)\n",
    "# pbar = tqdm(total=subcube.shape[2]*subcube.shape[1])\n",
    "# for i in np.arange(subcube.shape[2]): # x-axis\n",
    "#     for j in np.arange(subcube.shape[1]): # y-axis\n",
    "#         hbeta[j,i] = np.max(subcube[:,j,i]).value\n",
    "#         pbar.update(1)\n",
    "\n"
   ]
  },
  {
   "cell_type": "code",
   "execution_count": 56,
   "id": "1eb0970a",
   "metadata": {},
   "outputs": [
    {
     "name": "stderr",
     "output_type": "stream",
     "text": [
      "  0%|                                                                    | 0/190532 [00:04<?, ?it/s]\n",
      "100%|██████████████████████████████████████████████████████| 190532/190532 [05:40<00:00, 604.42it/s]"
     ]
    }
   ],
   "source": [
    "cube = CreateCube('../ngc253/muse/data/ADP.2018-11-22T21_29_46.157.fits', \n",
    "           6500, 6800, 6525, 6620, 6700, 6750)\n",
    "restwvl = 6562.801*u.AA * (Vsys + c)/c # H-alpha\n",
    "subcube = cube.spectral_slab(6555*u.AA, 6575*u.AA)  \n",
    "\n",
    "halpha = np.full((subcube.shape[1],subcube.shape[2]), np.nan)\n",
    "pbar = tqdm(total=subcube.shape[2]*subcube.shape[1])\n",
    "for i in np.arange(subcube.shape[2]): # x-axis\n",
    "    for j in np.arange(subcube.shape[1]): # y-axis\n",
    "        halpha[j,i] = np.max(subcube[:,j,i]).value\n",
    "        pbar.update(1)"
   ]
  },
  {
   "cell_type": "code",
   "execution_count": 70,
   "id": "d726f801",
   "metadata": {},
   "outputs": [],
   "source": [
    "rat = hbeta/halpha\n",
    "hdul = fits.PrimaryHDU(data=rat)\n",
    "hdul.writeto('../ngc253/muse/data/hbeta_halpha_intens.fits', overwrite=True)  "
   ]
  },
  {
   "cell_type": "code",
   "execution_count": 74,
   "id": "a3568490",
   "metadata": {},
   "outputs": [
    {
     "data": {
      "text/plain": [
       "0.12918552593245927"
      ]
     },
     "execution_count": 74,
     "metadata": {},
     "output_type": "execute_result"
    }
   ],
   "source": [
    "np.mean(rat[np.isfinite(rat)])"
   ]
  },
  {
   "cell_type": "code",
   "execution_count": null,
   "id": "d52dc0fa",
   "metadata": {},
   "outputs": [],
   "source": []
  }
 ],
 "metadata": {
  "kernelspec": {
   "display_name": "Python 3 (ipykernel)",
   "language": "python",
   "name": "python3"
  },
  "language_info": {
   "codemirror_mode": {
    "name": "ipython",
    "version": 3
   },
   "file_extension": ".py",
   "mimetype": "text/x-python",
   "name": "python",
   "nbconvert_exporter": "python",
   "pygments_lexer": "ipython3",
   "version": "3.10.12"
  }
 },
 "nbformat": 4,
 "nbformat_minor": 5
}
